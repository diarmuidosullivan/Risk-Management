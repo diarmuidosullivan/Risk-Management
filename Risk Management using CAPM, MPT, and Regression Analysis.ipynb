{
 "cells": [
  {
   "cell_type": "markdown",
   "id": "4964571d",
   "metadata": {},
   "source": [
    "The following cells allow the user to specify the risk-free rate and the market risk premium. "
   ]
  },
  {
   "cell_type": "code",
   "execution_count": 1,
   "id": "f0efa659",
   "metadata": {},
   "outputs": [],
   "source": [
    "risk_free_rate = 0.04"
   ]
  },
  {
   "cell_type": "code",
   "execution_count": 2,
   "id": "8d6b1956",
   "metadata": {},
   "outputs": [],
   "source": [
    "daily_risk_free_rate = (1+risk_free_rate)**(1/365)-1"
   ]
  },
  {
   "cell_type": "code",
   "execution_count": 3,
   "id": "571a24cc",
   "metadata": {},
   "outputs": [],
   "source": [
    "equity_risk_premium = 0.046"
   ]
  },
  {
   "cell_type": "code",
   "execution_count": 4,
   "id": "afca679e",
   "metadata": {},
   "outputs": [],
   "source": [
    "daily_equity_risk_premium = (1+equity_risk_premium)**(1/365)-1"
   ]
  },
  {
   "cell_type": "code",
   "execution_count": 5,
   "id": "80b9fd09",
   "metadata": {},
   "outputs": [],
   "source": [
    "yearly_market_return = risk_free_rate + equity_risk_premium"
   ]
  },
  {
   "cell_type": "code",
   "execution_count": 6,
   "id": "57bc5434",
   "metadata": {},
   "outputs": [],
   "source": [
    "daily_market_return = (1 + yearly_market_return) **(1/365) - 1"
   ]
  },
  {
   "cell_type": "code",
   "execution_count": 7,
   "id": "71cecf51",
   "metadata": {},
   "outputs": [],
   "source": [
    "import pandas as pd\n",
    "import numpy as np\n",
    "import math\n",
    "import matplotlib.pyplot as plt\n",
    "from sklearn.linear_model import LinearRegression"
   ]
  },
  {
   "cell_type": "markdown",
   "id": "f26c949e",
   "metadata": {},
   "source": [
    "SPX was used as the baseline in order to calculate the market varience. \n",
    "\n",
    "I used the associated R script to clean the data, calculate the daily log returns, and I read in these as CSV's below. This could have been done in Python, as shown with SPX below. \n",
    "\n",
    "EG7 is traded in Stockholm, so the OMXSBPI index was used as a baseline for this.\n",
    "\n",
    "EPSIL is traded in Athens, so the Athens Composite index was used as a baseline for this.\n",
    "\n",
    "NLOP only became publicly traded late last year, so SPX returns were modified in keeping to those dates."
   ]
  },
  {
   "cell_type": "code",
   "execution_count": 8,
   "id": "e14a2563",
   "metadata": {},
   "outputs": [],
   "source": [
    "SPX_read = pd.read_csv('/Users/diarmuidosullivan/Downloads/^SPX.csv')\n",
    "\n",
    "current_portfolio = pd.read_csv(\"/Users/diarmuidosullivan/Downloads/OpenPosition_3_27_2024.csv\")[0:12]\n",
    "\n",
    "log_returns_ex_EG7_NLOP = pd.read_csv(\"/Users/diarmuidosullivan/Downloads/gen_log_retuns.csv\")\n",
    "log_returns_EG7 = pd.read_csv(\"/Users/diarmuidosullivan/Downloads/EG7_log_retuns_compare.csv\")\n",
    "log_returns_NLOP = pd.read_csv(\"/Users/diarmuidosullivan/Downloads/NLOP_log_returns.csv\")\n",
    "log_returns_EPSIL = pd.read_csv(\"/Users/diarmuidosullivan/Downloads/EPSIL_log_returns.csv\")"
   ]
  },
  {
   "cell_type": "code",
   "execution_count": 9,
   "id": "d71f7aa7",
   "metadata": {},
   "outputs": [],
   "source": [
    "SPX_daily_log_returns = []\n",
    "SPX_close = SPX_read['Adj Close']\n",
    "for i in range (1, len(SPX_read)-1):\n",
    "    log_returns = math.log(SPX_close[i+1]/SPX_close[i])\n",
    "    SPX_daily_log_returns.append(log_returns)\n",
    "SPX_mean_return = np.average(SPX_daily_log_returns)\n",
    "SPX_varience_return = np.var(SPX_daily_log_returns)"
   ]
  },
  {
   "cell_type": "code",
   "execution_count": 10,
   "id": "3073b4fc",
   "metadata": {},
   "outputs": [],
   "source": [
    "names = current_portfolio['Symbol']\n",
    "names_new = names.tolist()"
   ]
  },
  {
   "cell_type": "markdown",
   "id": "3842aab6",
   "metadata": {},
   "source": [
    "This calculates the how much we invested into each stock as a proportion of the total amount we invested in stocks"
   ]
  },
  {
   "cell_type": "code",
   "execution_count": 11,
   "id": "5eabd951",
   "metadata": {},
   "outputs": [],
   "source": [
    "final_proportions_list = []\n",
    "Total_Equity_Index = sum(current_portfolio['MarketValue'])\n",
    "for i in range(len(current_portfolio['MarketValue'])):\n",
    "    temp = current_portfolio['MarketValue'][i]/Total_Equity_Index\n",
    "    final_proportions_list.append(temp)"
   ]
  },
  {
   "cell_type": "markdown",
   "id": "8b632c61",
   "metadata": {},
   "source": [
    "Simply renaming BRK-B to BRK"
   ]
  },
  {
   "cell_type": "code",
   "execution_count": 12,
   "id": "5e8f65aa",
   "metadata": {},
   "outputs": [],
   "source": [
    "final_proportions = pd.DataFrame (final_proportions_list, names_new)\n",
    "final_proportions_1 = final_proportions[0]\n",
    "final_proportions_dict = final_proportions_1.to_dict()\n",
    "final_proportions_dict['BRK'] = final_proportions_dict[\"BRK-B\"]\n",
    "del final_proportions_dict[\"BRK-B\"]"
   ]
  },
  {
   "cell_type": "markdown",
   "id": "5cd064d2",
   "metadata": {},
   "source": [
    "To calculate the expected returns and varience of returns for each asset, I used the single index model. \n",
    "\n",
    "I ran a regression analysis on the returns of each asset vs the returns of its associated baseline. \n",
    "\n",
    "The equity risk premium (alpha) of each stock, is the intercept of the regression line. This is the log return for each asset on a day where its associated baseline does not change value. \n",
    "\n",
    "The beta of each stock is the slope slope of the regression line. This is the change in the value of the asset on a day where there is a one unit change in the value of the associated baseline. \n",
    "\n",
    "In order to calculate the varience of return on each asset, I needed to calculated each assets residual standard error of each stocks log returns. This is difficult to do in Python, as neither sklearn nor scikit-learn have in built functions to calculate this, so I did this part in R. x"
   ]
  },
  {
   "cell_type": "code",
   "execution_count": 13,
   "id": "05f30216",
   "metadata": {},
   "outputs": [],
   "source": [
    "dictionary_of_alphas = {}\n",
    "dictionary_of_betas= {}\n",
    "dictionary_of_standard_deviation_of_error = {'EG7_standard_deviation_of_error' : 0.03284, \n",
    "                                             'GFL_standard_deviation_of_error' : 0.01551, \n",
    "                                             'BRK_standard_deviation_of_error' : 0.006217,\n",
    "                                             'DAKT_standard_deviation_of_error' : 0.03023,\n",
    "                                             'FCFS_standard_deviation_of_error' : 0.0137,\n",
    "                                             'IDT_standard_deviation_of_error' : 0.01992, \n",
    "                                             'IWGFF_standard_deviation_of_error' : 0.02919, \n",
    "                                             'XPEL_standard_deviation_of_error' : 0.0271,\n",
    "                                             'SENEA_standard_deviation_of_error' : 0.02478, \n",
    "                                             'CROX_standard_deviation_of_error' : 0.03059, \n",
    "                                             'NLOP_standard_deviation_of_error' : 0.03998, \n",
    "                                             'EPSIL_standard_deviation_of_error' : 0.02205}"
   ]
  },
  {
   "cell_type": "code",
   "execution_count": 14,
   "id": "d2ec6df0",
   "metadata": {},
   "outputs": [],
   "source": [
    "def single_index_model(x):\n",
    "    alpha_and_beta = LinearRegression()\n",
    "    alpha_and_beta.fit(log_returns_ex_EG7_NLOP['SPX_Log_Returns'].values.reshape((-1, 1)), log_returns_ex_EG7_NLOP[f'{x}_Log_Returns'])\n",
    "    \n",
    "    alpha = alpha_and_beta.intercept_\n",
    "    beta = alpha_and_beta.coef_\n",
    "    \n",
    "    for names_new in x:\n",
    "        dictionary_of_alphas[f'{x}_alpha'] = alpha_and_beta.intercept_\n",
    "        dictionary_of_betas[f'{x}_beta'] = alpha_and_beta.coef_\n",
    "        \n",
    "    \n",
    "    \n",
    "    return alpha, beta\n"
   ]
  },
  {
   "cell_type": "code",
   "execution_count": 15,
   "id": "e4b6943c",
   "metadata": {},
   "outputs": [],
   "source": [
    "def single_index_model_EG7(x):\n",
    "    alpha_and_beta = LinearRegression()\n",
    "    alpha_and_beta.fit(log_returns_EG7['OMXSBPI_Log_Returns'].values.reshape((-1, 1)), log_returns_EG7[f'{x}_Log_Returns'])\n",
    "    \n",
    "    alpha = alpha_and_beta.intercept_\n",
    "    beta = alpha_and_beta.coef_\n",
    "    \n",
    "    for names_new in x:\n",
    "        dictionary_of_alphas[f'{x}_alpha'] = alpha_and_beta.intercept_\n",
    "        dictionary_of_betas[f'{x}_beta'] = alpha_and_beta.coef_\n",
    "        \n",
    "    \n",
    "    \n",
    "    return alpha, beta"
   ]
  },
  {
   "cell_type": "code",
   "execution_count": 16,
   "id": "c5c04d07",
   "metadata": {},
   "outputs": [],
   "source": [
    "def single_index_model_NLOP(x):\n",
    "    alpha_and_beta = LinearRegression()\n",
    "    alpha_and_beta.fit(log_returns_NLOP['SPX_Log_Returns'].values.reshape((-1, 1)), log_returns_NLOP[f'{x}_Log_Returns'])\n",
    "    \n",
    "    alpha = alpha_and_beta.intercept_\n",
    "    beta = alpha_and_beta.coef_\n",
    "    \n",
    "    for names_new in x:\n",
    "        dictionary_of_alphas[f'{x}_alpha'] = alpha_and_beta.intercept_\n",
    "        dictionary_of_betas[f'{x}_beta'] = alpha_and_beta.coef_\n",
    "        \n",
    "    \n",
    "    \n",
    "    return alpha, beta"
   ]
  },
  {
   "cell_type": "code",
   "execution_count": 17,
   "id": "212feeb8",
   "metadata": {},
   "outputs": [],
   "source": [
    "def single_index_model_EPSIL(x):\n",
    "    alpha_and_beta = LinearRegression()\n",
    "    alpha_and_beta.fit(log_returns_EPSIL['ATH_Log_Returns'].values.reshape((-1, 1)), log_returns_EPSIL[f'{x}_Log_Returns'])\n",
    "    \n",
    "    alpha = alpha_and_beta.intercept_\n",
    "    beta = alpha_and_beta.coef_\n",
    "    \n",
    "    for names_new in x:\n",
    "        dictionary_of_alphas[f'{x}_alpha'] = alpha_and_beta.intercept_\n",
    "        dictionary_of_betas[f'{x}_beta'] = alpha_and_beta.coef_\n",
    "        \n",
    "    \n",
    "    \n",
    "    return alpha, beta"
   ]
  },
  {
   "cell_type": "code",
   "execution_count": 18,
   "id": "df1ea9b8",
   "metadata": {},
   "outputs": [
    {
     "data": {
      "text/plain": [
       "(-0.001876838220562371, array([1.05101711]))"
      ]
     },
     "execution_count": 18,
     "metadata": {},
     "output_type": "execute_result"
    }
   ],
   "source": [
    "single_index_model('BRK')\n",
    "single_index_model('CROX')\n",
    "single_index_model('DAKT')\n",
    "single_index_model_EG7('EG7')\n",
    "single_index_model_EPSIL('EPSIL')\n",
    "single_index_model('FCFS')\n",
    "single_index_model('GFL')\n",
    "single_index_model('IDT')\n",
    "single_index_model('IWGFF')\n",
    "single_index_model_NLOP('NLOP')\n",
    "single_index_model('SENEA')\n",
    "single_index_model('XPEL')"
   ]
  },
  {
   "cell_type": "code",
   "execution_count": 19,
   "id": "c085b264",
   "metadata": {},
   "outputs": [],
   "source": [
    "beta_values = [value for value in dictionary_of_betas.values()]"
   ]
  },
  {
   "cell_type": "code",
   "execution_count": 20,
   "id": "806b0c32",
   "metadata": {
    "scrolled": false
   },
   "outputs": [
    {
     "data": {
      "text/plain": [
       "array([[ 1.96632176e-05,  5.00090756e-05,  3.51253611e-05,\n",
       "         6.34765793e-06, -1.57166412e-06,  2.03597364e-05,\n",
       "         2.82464432e-05,  9.35501291e-06,  2.12126537e-05,\n",
       "         4.15546613e-05,  1.25831936e-05,  3.40042968e-05],\n",
       "       [ 5.00090756e-05,  1.27187101e-04,  8.93336419e-05,\n",
       "         1.61438739e-05, -3.99718254e-06,  5.17805182e-05,\n",
       "         7.18386251e-05,  2.37924209e-05,  5.39497261e-05,\n",
       "         1.05685155e-04,  3.20025894e-05,  8.64824611e-05],\n",
       "       [ 3.51253611e-05,  8.93336419e-05,  6.27461394e-05,\n",
       "         1.13391298e-05, -2.80753999e-06,  3.63695865e-05,\n",
       "         5.04579942e-05,  1.67113142e-05,  3.78931941e-05,\n",
       "         7.42311108e-05,  2.24779701e-05,  6.07435278e-05],\n",
       "       [ 6.34765793e-06,  1.61438739e-05,  1.13391298e-05,\n",
       "         2.04914384e-06, -5.07362856e-07,  6.57250735e-06,\n",
       "         9.11848525e-06,  3.01997482e-06,  6.84784516e-06,\n",
       "         1.34146293e-05,  4.06209249e-06,  1.09772291e-05],\n",
       "       [-1.57166412e-06, -3.99718254e-06, -2.80753999e-06,\n",
       "        -5.07362856e-07,  1.25621766e-07, -1.62733627e-06,\n",
       "        -2.25771399e-06, -7.47738161e-07, -1.69550922e-06,\n",
       "        -3.32142845e-06, -1.00576387e-06, -2.71793429e-06],\n",
       "       [ 2.03597364e-05,  5.17805182e-05,  3.63695865e-05,\n",
       "         6.57250735e-06, -1.62733627e-06,  2.10809276e-05,\n",
       "         2.92470007e-05,  9.68639014e-06,  2.19640573e-05,\n",
       "         4.30266281e-05,  1.30289208e-05,  3.52088114e-05],\n",
       "       [ 2.82464432e-05,  7.18386251e-05,  5.04579942e-05,\n",
       "         9.11848525e-06, -2.25771399e-06,  2.92470007e-05,\n",
       "         4.05763478e-05,  1.34385860e-05,  3.04722264e-05,\n",
       "         5.96937595e-05,  1.80759055e-05,  4.88475722e-05],\n",
       "       [ 9.35501291e-06,  2.37924209e-05,  1.67113142e-05,\n",
       "         3.01997482e-06, -7.47738161e-07,  9.68639014e-06,\n",
       "         1.34385860e-05,  4.45076022e-06,  1.00921758e-05,\n",
       "         1.97701313e-05,  5.98660610e-06,  1.61779543e-05],\n",
       "       [ 2.12126537e-05,  5.39497261e-05,  3.78931941e-05,\n",
       "         6.84784516e-06, -1.69550922e-06,  2.19640573e-05,\n",
       "         3.04722264e-05,  1.00921758e-05,  2.28841833e-05,\n",
       "         4.48291148e-05,  1.35747329e-05,  3.66837914e-05],\n",
       "       [ 4.15546613e-05,  1.05685155e-04,  7.42311108e-05,\n",
       "         1.34146293e-05, -3.32142845e-06,  4.30266281e-05,\n",
       "         5.96937595e-05,  1.97701313e-05,  4.48291148e-05,\n",
       "         8.78182763e-05,  2.65923084e-05,  7.18619438e-05],\n",
       "       [ 1.25831936e-05,  3.20025894e-05,  2.24779701e-05,\n",
       "         4.06209249e-06, -1.00576387e-06,  1.30289208e-05,\n",
       "         1.80759055e-05,  5.98660610e-06,  1.35747329e-05,\n",
       "         2.65923084e-05,  8.05243392e-06,  2.17605612e-05],\n",
       "       [ 3.40042968e-05,  8.64824611e-05,  6.07435278e-05,\n",
       "         1.09772291e-05, -2.71793429e-06,  3.52088114e-05,\n",
       "         4.88475722e-05,  1.61779543e-05,  3.66837914e-05,\n",
       "         7.18619438e-05,  2.17605612e-05,  5.88048317e-05]])"
      ]
     },
     "execution_count": 20,
     "metadata": {},
     "output_type": "execute_result"
    }
   ],
   "source": [
    "n = len(beta_values)\n",
    "covariance_matrix = np.zeros((n, n))\n",
    "\n",
    "for i in range(n):\n",
    "    for j in range(n):\n",
    "        if i == j:\n",
    "                covariance_matrix[i, j] = beta_values[i] ** 2 * SPX_varience_return\n",
    "        else:\n",
    "                covariance_matrix[i, j] = beta_values[i] * beta_values[j] * SPX_varience_return\n",
    "\n",
    "\n",
    "\n",
    "covariance_matrix"
   ]
  },
  {
   "cell_type": "code",
   "execution_count": 21,
   "id": "3b28149d",
   "metadata": {},
   "outputs": [],
   "source": [
    "def expected_returns(x):\n",
    "    return dictionary_of_alphas.get(f'{x}_alpha') + dictionary_of_betas.get(f'{x}_beta') * daily_market_return"
   ]
  },
  {
   "cell_type": "code",
   "execution_count": 22,
   "id": "b765665e",
   "metadata": {},
   "outputs": [
    {
     "name": "stdout",
     "output_type": "stream",
     "text": [
      "[0.00069767]\n",
      "[-0.00058733]\n",
      "[0.00140584]\n",
      "[-0.00263685]\n",
      "[0.00089096]\n",
      "[0.00062168]\n",
      "[-0.00048467]\n",
      "[0.00030076]\n",
      "[0.00066124]\n",
      "[0.00460101]\n",
      "[-0.00012453]\n",
      "[-0.00163925]\n"
     ]
    }
   ],
   "source": [
    "print(expected_returns('BRK'))\n",
    "print(expected_returns('CROX'))\n",
    "print(expected_returns('DAKT'))\n",
    "print(expected_returns('EG7'))\n",
    "print(expected_returns('EPSIL'))\n",
    "print(expected_returns('FCFS'))\n",
    "print(expected_returns('GFL'))\n",
    "print(expected_returns('IDT'))\n",
    "print(expected_returns('IWGFF'))\n",
    "print(expected_returns('NLOP'))\n",
    "print(expected_returns('SENEA'))\n",
    "print(expected_returns('XPEL'))"
   ]
  },
  {
   "cell_type": "code",
   "execution_count": 23,
   "id": "b130c889",
   "metadata": {},
   "outputs": [],
   "source": [
    "def variance_of_return(x):\n",
    "    return (dictionary_of_betas.get(f'{x}_beta')**2)*SPX_varience_return + dictionary_of_standard_deviation_of_error.get(f'{x}_standard_deviation_of_error')"
   ]
  },
  {
   "cell_type": "code",
   "execution_count": 24,
   "id": "09072822",
   "metadata": {},
   "outputs": [
    {
     "data": {
      "text/plain": [
       "2.8065828934638073e-05"
      ]
     },
     "execution_count": 24,
     "metadata": {},
     "output_type": "execute_result"
    }
   ],
   "source": [
    "portfolio_varience = np.dot(np.array(final_proportions_list).T, np.dot(covariance_matrix, final_proportions_list)) \n",
    "portfolio_varience"
   ]
  },
  {
   "cell_type": "code",
   "execution_count": 25,
   "id": "d857a2b3",
   "metadata": {},
   "outputs": [
    {
     "data": {
      "text/plain": [
       "0.08409868543282228"
      ]
     },
     "execution_count": 25,
     "metadata": {},
     "output_type": "execute_result"
    }
   ],
   "source": [
    "annual_sd = np.sqrt(portfolio_varience*252)\n",
    "annual_sd"
   ]
  },
  {
   "cell_type": "code",
   "execution_count": 26,
   "id": "c843e048",
   "metadata": {},
   "outputs": [],
   "source": [
    "portfolio_expected_return= expected_returns('BRK')*final_proportions_dict.get('BRK')+expected_returns('CROX')*final_proportions_dict.get('CROX')+expected_returns('DAKT')*final_proportions_dict.get('DAKT')+expected_returns('EG7')*final_proportions_dict.get('EG7')+expected_returns('EPSIL')*final_proportions_dict.get('EPSIL')+expected_returns('FCFS')*final_proportions_dict.get('FCFS')+expected_returns('GFL')*final_proportions_dict.get('GFL')+expected_returns('IDT')*final_proportions_dict.get('IDT')+expected_returns('IWGFF')*final_proportions_dict.get('IWGFF')+expected_returns('NLOP')*final_proportions_dict.get('NLOP')+expected_returns('SENEA')*final_proportions_dict.get('SENEA')+expected_returns('XPEL')*final_proportions_dict.get('XPEL')"
   ]
  },
  {
   "cell_type": "code",
   "execution_count": 27,
   "id": "03bd12b1",
   "metadata": {},
   "outputs": [
    {
     "data": {
      "text/plain": [
       "array([0.00055018])"
      ]
     },
     "execution_count": 27,
     "metadata": {},
     "output_type": "execute_result"
    }
   ],
   "source": [
    "portfolio_expected_return"
   ]
  },
  {
   "cell_type": "code",
   "execution_count": 28,
   "id": "54c3e7f5",
   "metadata": {},
   "outputs": [
    {
     "data": {
      "text/plain": [
       "array([1.14867421])"
      ]
     },
     "execution_count": 28,
     "metadata": {},
     "output_type": "execute_result"
    }
   ],
   "source": [
    "(portfolio_expected_return+1)**252"
   ]
  },
  {
   "cell_type": "markdown",
   "id": "b3c38ea9",
   "metadata": {},
   "source": [
    "95% VaR\n",
    "\n",
    "There is a 95% chance that the returns of our portfolio over the next year will be above 1.033%"
   ]
  },
  {
   "cell_type": "code",
   "execution_count": 29,
   "id": "bb890fe4",
   "metadata": {},
   "outputs": [
    {
     "data": {
      "text/plain": [
       "array([1.01033187])"
      ]
     },
     "execution_count": 29,
     "metadata": {},
     "output_type": "execute_result"
    }
   ],
   "source": [
    "(((portfolio_expected_return+1)**252) - 1.645*annual_sd)"
   ]
  }
 ],
 "metadata": {
  "kernelspec": {
   "display_name": "Python 3 (ipykernel)",
   "language": "python",
   "name": "python3"
  },
  "language_info": {
   "codemirror_mode": {
    "name": "ipython",
    "version": 3
   },
   "file_extension": ".py",
   "mimetype": "text/x-python",
   "name": "python",
   "nbconvert_exporter": "python",
   "pygments_lexer": "ipython3",
   "version": "3.11.5"
  }
 },
 "nbformat": 4,
 "nbformat_minor": 5
}
